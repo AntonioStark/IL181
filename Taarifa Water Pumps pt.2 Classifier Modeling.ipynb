{
 "cells": [
  {
   "cell_type": "markdown",
   "metadata": {},
   "source": [
    "# 0.0 Introduction\n",
    "This code attempts to solve the challenge hosted on DrivenData.org The challenge can be accessed via https://www.drivendata.org/competitions/7/pump-it-up-data-mining-the-water-table\n",
    "\n",
    "A walk-through of this code is available at: https://medium.com/@antoniostark/a4d2c428a2eb\n",
    "\n",
    "This is the second of two parts that attempts to solve the challenge. The first part can be found at the following links below:\n",
    "\n",
    "Github: https://github.com/AntonioStark/Taarifa-Water-Pumps/blob/master/Taarifa%20Water%20Pumps%20pt.1%20Data%20Preprocessing%20EDA.ipynb\n",
    "\n",
    "Medium: https://medium.com/@antoniostark/50ba6ea65c0a"
   ]
  },
  {
   "cell_type": "markdown",
   "metadata": {},
   "source": [
    "# 1.0 Problem Description\n",
    "The challenge is to create a model that will predict the condition of a particular water pump (\"waterpoint\") given its many attributes."
   ]
  },
  {
   "cell_type": "code",
   "execution_count": 1,
   "metadata": {},
   "outputs": [],
   "source": [
    "# general package imports\n",
    "import pandas as pd\n",
    "import numpy as np\n",
    "import matplotlib.pyplot as plt"
   ]
  },
  {
   "cell_type": "markdown",
   "metadata": {},
   "source": [
    "# 2.0 Data preparation\n",
    "We've finally managed to get our data preprocessed! Now we're going to run it through some models and see if it gives us any significant results. Let's import our preprocessed dataset from the working directory.\n"
   ]
  },
  {
   "cell_type": "code",
   "execution_count": 2,
   "metadata": {},
   "outputs": [
    {
     "name": "stdout",
     "output_type": "stream",
     "text": [
      "df is a dataset of 74250 data points of 114 features\n"
     ]
    },
    {
     "name": "stderr",
     "output_type": "stream",
     "text": [
      "//anaconda3/lib/python3.7/site-packages/IPython/core/interactiveshell.py:3057: DtypeWarning: Columns (6) have mixed types. Specify dtype option on import or set low_memory=False.\n",
      "  interactivity=interactivity, compiler=compiler, result=result)\n"
     ]
    }
   ],
   "source": [
    "# import data\n",
    "df = pd.read_csv('preprocessed_dataset.csv')\n",
    "## because we're importing from a .csv file, we have one column that's just the row number\n",
    "df.drop(columns=['Unnamed: 0'],inplace=True)\n",
    "\n",
    "print('df is a dataset of %d data points of %d features'%(df.shape[0],df.shape[1]))"
   ]
  },
  {
   "cell_type": "code",
   "execution_count": 3,
   "metadata": {},
   "outputs": [],
   "source": [
    "pd.set_option('display.max_columns',6)"
   ]
  },
  {
   "cell_type": "code",
   "execution_count": 4,
   "metadata": {
    "scrolled": false
   },
   "outputs": [
    {
     "data": {
      "text/html": [
       "<div>\n",
       "<style scoped>\n",
       "    .dataframe tbody tr th:only-of-type {\n",
       "        vertical-align: middle;\n",
       "    }\n",
       "\n",
       "    .dataframe tbody tr th {\n",
       "        vertical-align: top;\n",
       "    }\n",
       "\n",
       "    .dataframe thead th {\n",
       "        text-align: right;\n",
       "    }\n",
       "</style>\n",
       "<table border=\"1\" class=\"dataframe\">\n",
       "  <thead>\n",
       "    <tr style=\"text-align: right;\">\n",
       "      <th></th>\n",
       "      <th>gps_height</th>\n",
       "      <th>longitude</th>\n",
       "      <th>latitude</th>\n",
       "      <th>...</th>\n",
       "      <th>source_class_groundwater</th>\n",
       "      <th>source_class_surface</th>\n",
       "      <th>source_class_unknown</th>\n",
       "    </tr>\n",
       "  </thead>\n",
       "  <tbody>\n",
       "    <tr>\n",
       "      <th>0</th>\n",
       "      <td>1390</td>\n",
       "      <td>34.938093</td>\n",
       "      <td>-9.856322</td>\n",
       "      <td>...</td>\n",
       "      <td>1</td>\n",
       "      <td>0</td>\n",
       "      <td>0</td>\n",
       "    </tr>\n",
       "    <tr>\n",
       "      <th>1</th>\n",
       "      <td>1399</td>\n",
       "      <td>34.698766</td>\n",
       "      <td>-2.147466</td>\n",
       "      <td>...</td>\n",
       "      <td>0</td>\n",
       "      <td>1</td>\n",
       "      <td>0</td>\n",
       "    </tr>\n",
       "    <tr>\n",
       "      <th>2</th>\n",
       "      <td>686</td>\n",
       "      <td>37.460664</td>\n",
       "      <td>-3.821329</td>\n",
       "      <td>...</td>\n",
       "      <td>0</td>\n",
       "      <td>1</td>\n",
       "      <td>0</td>\n",
       "    </tr>\n",
       "    <tr>\n",
       "      <th>3</th>\n",
       "      <td>263</td>\n",
       "      <td>38.486161</td>\n",
       "      <td>-11.155298</td>\n",
       "      <td>...</td>\n",
       "      <td>1</td>\n",
       "      <td>0</td>\n",
       "      <td>0</td>\n",
       "    </tr>\n",
       "    <tr>\n",
       "      <th>4</th>\n",
       "      <td>0</td>\n",
       "      <td>31.130847</td>\n",
       "      <td>-1.825359</td>\n",
       "      <td>...</td>\n",
       "      <td>0</td>\n",
       "      <td>1</td>\n",
       "      <td>0</td>\n",
       "    </tr>\n",
       "  </tbody>\n",
       "</table>\n",
       "<p>5 rows × 114 columns</p>\n",
       "</div>"
      ],
      "text/plain": [
       "   gps_height  longitude   latitude  ...  source_class_groundwater  \\\n",
       "0        1390  34.938093  -9.856322  ...                         1   \n",
       "1        1399  34.698766  -2.147466  ...                         0   \n",
       "2         686  37.460664  -3.821329  ...                         0   \n",
       "3         263  38.486161 -11.155298  ...                         1   \n",
       "4           0  31.130847  -1.825359  ...                         0   \n",
       "\n",
       "   source_class_surface source_class_unknown  \n",
       "0                     0                    0  \n",
       "1                     1                    0  \n",
       "2                     1                    0  \n",
       "3                     0                    0  \n",
       "4                     1                    0  \n",
       "\n",
       "[5 rows x 114 columns]"
      ]
     },
     "execution_count": 4,
     "metadata": {},
     "output_type": "execute_result"
    }
   ],
   "source": [
    "df.head()"
   ]
  },
  {
   "cell_type": "code",
   "execution_count": 5,
   "metadata": {},
   "outputs": [],
   "source": [
    "## there seems to be a small error in there being both numerics and strings of those numerics in the status_group. Let's quickly fix that\n",
    "status_group_dict = {'2':2,'1':1,'0':0}\n",
    "df.status_group = df.status_group.replace(status_group_dict)"
   ]
  },
  {
   "cell_type": "markdown",
   "metadata": {},
   "source": [
    "## 2.1 Data Splitting\n",
    "Currently our test dataset has no labels associated with them. To gauge whether or not our model is working well, we need to artificially create testing datasets from our training dataset.\n",
    "Let's take a one-third random sample from our training dataset and designate that as our testing set for our models."
   ]
  },
  {
   "cell_type": "code",
   "execution_count": 6,
   "metadata": {},
   "outputs": [
    {
     "name": "stdout",
     "output_type": "stream",
     "text": [
      "X_train shape: (39798, 112)\n",
      "X_test shape: (19602, 112)\n",
      "y_train shape: (39798,)\n",
      "y_test shape: (19602,)\n"
     ]
    }
   ],
   "source": [
    "from sklearn.model_selection import train_test_split\n",
    "\n",
    "train = df[df.train==True].drop(columns=['train'])\n",
    "X = train.drop(columns=['status_group'])\n",
    "y = train.status_group\n",
    "\n",
    "X_train, X_test, y_train, y_test = train_test_split(X,y,test_size=0.33, random_state=1)\n",
    "\n",
    "## numpy in the models below did not seem to recognize the dtype of the y's as 'int.' So we're explicitly calling them out here.\n",
    "y_train = pd.Series(np.asarray(y_train,dtype='int'))\n",
    "y_test = pd.Series(np.asarray(y_test,dtype='int'))\n",
    "\n",
    "dfs = (X_train,X_test,y_train,y_test)\n",
    "df_names = ('X_train','X_test','y_train','y_test')\n",
    "for i in range(len(dfs)):\n",
    "    print('%s shape: %s'%(df_names[i],dfs[i].shape))"
   ]
  },
  {
   "cell_type": "markdown",
   "metadata": {},
   "source": [
    "## 2.2 Data output imbalance\n",
    "Let's quickly re-check our label balances here."
   ]
  },
  {
   "cell_type": "code",
   "execution_count": 7,
   "metadata": {
    "scrolled": true
   },
   "outputs": [
    {
     "name": "stdout",
     "output_type": "stream",
     "text": [
      "outputs of y_train:\n",
      "there are 3 labels: \n",
      "\n",
      "2    21629\n",
      "0    15252\n",
      "1     2917\n",
      "dtype: int64\n",
      "\n",
      "each with 38.3%, 7.3%, 54.3%\n",
      "\n",
      "outputs of y_test:\n",
      "there are 3 labels: \n",
      "\n",
      "2    10630\n",
      "0     7572\n",
      "1     1400\n",
      "dtype: int64\n",
      "\n",
      "each with 38.6%, 7.1%, 54.2%\n"
     ]
    }
   ],
   "source": [
    "def df_imbalance(df):\n",
    "    labels = df.unique()\n",
    "    print('there are %d labels: \\n'%len(labels))\n",
    "    labels_count = df.value_counts()\n",
    "    print(labels_count)\n",
    "    labels_percentage = labels_count/np.sum(labels_count)*100\n",
    "    print('\\neach with %.1f%%, %.1f%%, %.1f%%'%(labels_percentage[0],labels_percentage[1],labels_percentage[2]))\n",
    "\n",
    "print('outputs of y_train:')\n",
    "df_imbalance(y_train)\n",
    "print('\\noutputs of y_test:')\n",
    "df_imbalance(y_test)"
   ]
  },
  {
   "cell_type": "markdown",
   "metadata": {},
   "source": [
    "It seems like our random splitting did pretty well! Our output balance is pretty identical to both our training and testing dataset. The output classes are a bit imbalanced, we'll get to that later"
   ]
  },
  {
   "cell_type": "markdown",
   "metadata": {},
   "source": [
    "# 3.0 Modeling\n",
    "While there are many types of classifiers we can use, they are generally put into these three families: nearest neighbors, decision trees, and support vector machines. We're going to look at one example model from each family of models.\n",
    "\n",
    "Do note that our task is a multi-class classification problem. While there are ways to do multi-class logistic regression, we're not doing it here.\n",
    "\n",
    "There's also a lot of relationships between our features. This is either because they correspond to similar aspects (e.g. latitude and longitude), or are results of one-hot encoding. That's why we won't be doing a Naive Bayes model here as well.\n",
    "\n",
    "The metric employed by Taarifa is the \"classification rate\" - the percentage of correct classification by the model. Let's look at the classification rate and run time of each model."
   ]
  },
  {
   "cell_type": "code",
   "execution_count": 8,
   "metadata": {},
   "outputs": [
    {
     "data": {
      "text/html": [
       "<div>\n",
       "<style scoped>\n",
       "    .dataframe tbody tr th:only-of-type {\n",
       "        vertical-align: middle;\n",
       "    }\n",
       "\n",
       "    .dataframe tbody tr th {\n",
       "        vertical-align: top;\n",
       "    }\n",
       "\n",
       "    .dataframe thead th {\n",
       "        text-align: right;\n",
       "    }\n",
       "</style>\n",
       "<table border=\"1\" class=\"dataframe\">\n",
       "  <thead>\n",
       "    <tr style=\"text-align: right;\">\n",
       "      <th></th>\n",
       "      <th>family</th>\n",
       "      <th>model</th>\n",
       "      <th>classification_rate</th>\n",
       "      <th>runtime</th>\n",
       "    </tr>\n",
       "  </thead>\n",
       "  <tbody>\n",
       "  </tbody>\n",
       "</table>\n",
       "</div>"
      ],
      "text/plain": [
       "Empty DataFrame\n",
       "Columns: [family, model, classification_rate, runtime]\n",
       "Index: []"
      ]
     },
     "execution_count": 8,
     "metadata": {},
     "output_type": "execute_result"
    }
   ],
   "source": [
    "# packages required for metrics\n",
    "import time, math\n",
    "from sklearn.metrics import accuracy_score\n",
    "\n",
    "cols_results=['family','model','classification_rate','runtime']\n",
    "results = pd.DataFrame(columns=cols_results)\n",
    "\n",
    "results"
   ]
  },
  {
   "cell_type": "markdown",
   "metadata": {},
   "source": [
    "## 3.1 K-Nearest Neighbors (KNNs)\n",
    "We'll use KNN as a representative Nearest-Neighbor model.\n",
    "\n",
    "A KNN is a \"lazy classifier\" - it does not build any internal models, but simply \"stores\" all the instances in the training dataset.\n",
    "\n",
    "Therefore, a KNN has no \"training time\" - instead, it takes a lot of time in prediction. It is especially awful when we have a large dataset and the KNN has to evaluate the distance between the new datapoint and existing datapoints.\n",
    "\n",
    "Let's see how a KNN does in accuracy and time for k = 1 to 9"
   ]
  },
  {
   "cell_type": "code",
   "execution_count": 9,
   "metadata": {},
   "outputs": [
    {
     "data": {
      "text/html": [
       "<div>\n",
       "<style scoped>\n",
       "    .dataframe tbody tr th:only-of-type {\n",
       "        vertical-align: middle;\n",
       "    }\n",
       "\n",
       "    .dataframe tbody tr th {\n",
       "        vertical-align: top;\n",
       "    }\n",
       "\n",
       "    .dataframe thead th {\n",
       "        text-align: right;\n",
       "    }\n",
       "</style>\n",
       "<table border=\"1\" class=\"dataframe\">\n",
       "  <thead>\n",
       "    <tr style=\"text-align: right;\">\n",
       "      <th></th>\n",
       "      <th>family</th>\n",
       "      <th>model</th>\n",
       "      <th>classification_rate</th>\n",
       "      <th>runtime</th>\n",
       "    </tr>\n",
       "  </thead>\n",
       "  <tbody>\n",
       "    <tr>\n",
       "      <th>0</th>\n",
       "      <td>KNN</td>\n",
       "      <td>KNN-1</td>\n",
       "      <td>0.650954</td>\n",
       "      <td>3.882647</td>\n",
       "    </tr>\n",
       "    <tr>\n",
       "      <th>1</th>\n",
       "      <td>KNN</td>\n",
       "      <td>KNN-2</td>\n",
       "      <td>0.608611</td>\n",
       "      <td>4.331218</td>\n",
       "    </tr>\n",
       "    <tr>\n",
       "      <th>2</th>\n",
       "      <td>KNN</td>\n",
       "      <td>KNN-3</td>\n",
       "      <td>0.665544</td>\n",
       "      <td>4.663277</td>\n",
       "    </tr>\n",
       "    <tr>\n",
       "      <th>3</th>\n",
       "      <td>KNN</td>\n",
       "      <td>KNN-4</td>\n",
       "      <td>0.652740</td>\n",
       "      <td>4.692356</td>\n",
       "    </tr>\n",
       "    <tr>\n",
       "      <th>4</th>\n",
       "      <td>KNN</td>\n",
       "      <td>KNN-5</td>\n",
       "      <td>0.671768</td>\n",
       "      <td>4.821031</td>\n",
       "    </tr>\n",
       "    <tr>\n",
       "      <th>5</th>\n",
       "      <td>KNN</td>\n",
       "      <td>KNN-6</td>\n",
       "      <td>0.666310</td>\n",
       "      <td>5.039141</td>\n",
       "    </tr>\n",
       "    <tr>\n",
       "      <th>6</th>\n",
       "      <td>KNN</td>\n",
       "      <td>KNN-7</td>\n",
       "      <td>0.671360</td>\n",
       "      <td>5.232532</td>\n",
       "    </tr>\n",
       "    <tr>\n",
       "      <th>7</th>\n",
       "      <td>KNN</td>\n",
       "      <td>KNN-8</td>\n",
       "      <td>0.670442</td>\n",
       "      <td>5.244241</td>\n",
       "    </tr>\n",
       "    <tr>\n",
       "      <th>8</th>\n",
       "      <td>KNN</td>\n",
       "      <td>KNN-9</td>\n",
       "      <td>0.673350</td>\n",
       "      <td>5.388956</td>\n",
       "    </tr>\n",
       "  </tbody>\n",
       "</table>\n",
       "</div>"
      ],
      "text/plain": [
       "  family  model  classification_rate   runtime\n",
       "0    KNN  KNN-1             0.650954  3.882647\n",
       "1    KNN  KNN-2             0.608611  4.331218\n",
       "2    KNN  KNN-3             0.665544  4.663277\n",
       "3    KNN  KNN-4             0.652740  4.692356\n",
       "4    KNN  KNN-5             0.671768  4.821031\n",
       "5    KNN  KNN-6             0.666310  5.039141\n",
       "6    KNN  KNN-7             0.671360  5.232532\n",
       "7    KNN  KNN-8             0.670442  5.244241\n",
       "8    KNN  KNN-9             0.673350  5.388956"
      ]
     },
     "execution_count": 9,
     "metadata": {},
     "output_type": "execute_result"
    }
   ],
   "source": [
    "from sklearn.neighbors import KNeighborsClassifier\n",
    "\n",
    "kVals = range(1,10)\n",
    "knn_names = ['KNN-'+str(k) for k in kVals]\n",
    "\n",
    "for k in kVals:\n",
    "    knn = KNeighborsClassifier(n_neighbors=k)\n",
    "    knn.fit(X_train, y_train)\n",
    "    \n",
    "    time_start = time.time()\n",
    "    y_pred = knn.predict(X_test)\n",
    "    time_run = time.time()-time_start\n",
    "    \n",
    "    results = results.append(pd.DataFrame([['KNN',knn_names[k-1],accuracy_score(y_test,y_pred),time_run]],columns=cols_results),ignore_index=True)\n",
    "\n",
    "results[results.family=='KNN']"
   ]
  },
  {
   "cell_type": "markdown",
   "metadata": {},
   "source": [
    "Okay, so we have our KNNs here. Let's visualize how well they've done and how much time they've took"
   ]
  },
  {
   "cell_type": "code",
   "execution_count": 10,
   "metadata": {
    "scrolled": true
   },
   "outputs": [
    {
     "data": {
      "image/png": "[encoded data removed]",
      "text/plain": [
       "<Figure size 432x288 with 2 Axes>"
      ]
     },
     "metadata": {
      "needs_background": "light"
     },
     "output_type": "display_data"
    }
   ],
   "source": [
    "fig, ax = plt.subplots()\n",
    "ax.plot(kVals,results[results.family=='KNN'].classification_rate,color='blue',marker='o')\n",
    "ax.set_xlabel('k-value for KNN models')\n",
    "ax.set_ylabel('classification rate (blue)')\n",
    "ax2=ax.twinx()\n",
    "ax2.plot(kVals,results[results.family=='KNN'].runtime,color='red',marker='o')\n",
    "ax2.set_ylabel('runtime (seconds; red)')\n",
    "plt.show()"
   ]
  },
  {
   "cell_type": "markdown",
   "metadata": {},
   "source": [
    "The accuracy does fluctuate a bit at first, but gradually stabilizes around 67% as we take more neighbors into account. The runtime generally increases linearly with k-value."
   ]
  },
  {
   "cell_type": "markdown",
   "metadata": {},
   "source": [
    "## 3.2 Random Forest\n",
    "For our Decision-Tree based model, we'll create a random forest. Random forest is a method of creating multiple decision trees over a subset of the training dataset and taking the consensus result. Because of this random subsetting method, random forests are resillient to overfitting, but takes longer time to train than a single decision tree.\n",
    "\n",
    "Let's see how random forests of 1 (this is just a single decision tree), 10, 100, and 1,000 trees fare."
   ]
  },
  {
   "cell_type": "code",
   "execution_count": 11,
   "metadata": {},
   "outputs": [
    {
     "data": {
      "text/html": [
       "<div>\n",
       "<style scoped>\n",
       "    .dataframe tbody tr th:only-of-type {\n",
       "        vertical-align: middle;\n",
       "    }\n",
       "\n",
       "    .dataframe tbody tr th {\n",
       "        vertical-align: top;\n",
       "    }\n",
       "\n",
       "    .dataframe thead th {\n",
       "        text-align: right;\n",
       "    }\n",
       "</style>\n",
       "<table border=\"1\" class=\"dataframe\">\n",
       "  <thead>\n",
       "    <tr style=\"text-align: right;\">\n",
       "      <th></th>\n",
       "      <th>family</th>\n",
       "      <th>model</th>\n",
       "      <th>classification_rate</th>\n",
       "      <th>runtime</th>\n",
       "    </tr>\n",
       "  </thead>\n",
       "  <tbody>\n",
       "    <tr>\n",
       "      <th>9</th>\n",
       "      <td>RF</td>\n",
       "      <td>RF-10</td>\n",
       "      <td>0.781094</td>\n",
       "      <td>0.617978</td>\n",
       "    </tr>\n",
       "    <tr>\n",
       "      <th>10</th>\n",
       "      <td>RF</td>\n",
       "      <td>RF-100</td>\n",
       "      <td>0.796959</td>\n",
       "      <td>5.720452</td>\n",
       "    </tr>\n",
       "    <tr>\n",
       "      <th>11</th>\n",
       "      <td>RF</td>\n",
       "      <td>RF-1000</td>\n",
       "      <td>0.799051</td>\n",
       "      <td>58.886793</td>\n",
       "    </tr>\n",
       "  </tbody>\n",
       "</table>\n",
       "</div>"
      ],
      "text/plain": [
       "   family    model  classification_rate    runtime\n",
       "9      RF    RF-10             0.781094   0.617978\n",
       "10     RF   RF-100             0.796959   5.720452\n",
       "11     RF  RF-1000             0.799051  58.886793"
      ]
     },
     "execution_count": 11,
     "metadata": {},
     "output_type": "execute_result"
    }
   ],
   "source": [
    "from sklearn.ensemble import RandomForestClassifier\n",
    "rVals = range(1,4)\n",
    "rf_names = ['RF-'+str(int(math.pow(10,r))) for r in rVals]\n",
    "\n",
    "for r in rVals:\n",
    "    clf = RandomForestClassifier(n_estimators=int(math.pow(10,r)),random_state=0)\n",
    "    time_start = time.time()\n",
    "    clf.fit(X_train,y_train)\n",
    "    time_run = time.time()-time_start\n",
    "    y_pred=clf.predict(X_test)\n",
    "    \n",
    "    results = results.append(pd.DataFrame([['RF',rf_names[r-1],accuracy_score(y_test,y_pred),time_run]],columns=cols_results),ignore_index=True)\n",
    "    \n",
    "results[results.family=='RF']"
   ]
  },
  {
   "cell_type": "code",
   "execution_count": 12,
   "metadata": {},
   "outputs": [
    {
     "data": {
      "image/png": "[encoded data removed]",
      "text/plain": [
       "<Figure size 432x288 with 2 Axes>"
      ]
     },
     "metadata": {
      "needs_background": "light"
     },
     "output_type": "display_data"
    }
   ],
   "source": [
    "fig, ax = plt.subplots()\n",
    "ax.plot(rVals,results[results.family=='RF'].classification_rate,color='blue',marker='o')\n",
    "ax.set_xlabel('r-value for Random Forests, logarithimic scale')\n",
    "ax.set_ylabel('classification rate (blue)')\n",
    "ax2=ax.twinx()\n",
    "ax2.plot(rVals,results[results.family=='RF'].runtime,color='red',marker='o')\n",
    "ax2.set_ylabel('runtime (seconds; red)')\n",
    "plt.show()"
   ]
  },
  {
   "cell_type": "code",
   "execution_count": 13,
   "metadata": {},
   "outputs": [
    {
     "data": {
      "image/png": "[encoded data removed]",
      "text/plain": [
       "<Figure size 432x288 with 2 Axes>"
      ]
     },
     "metadata": {
      "needs_background": "light"
     },
     "output_type": "display_data"
    }
   ],
   "source": [
    "fig, ax = plt.subplots()\n",
    "ax.plot([math.pow(10,r) for r in rVals],results[results.family=='RF'].classification_rate,color='blue',marker='o')\n",
    "ax.set_xlabel('r-value for Random Forests, linear scale')\n",
    "ax.set_ylabel('classification rate (blue)')\n",
    "ax2=ax.twinx()\n",
    "ax2.plot([math.pow(10,r) for r in rVals],results[results.family=='RF'].runtime,color='red',marker='o')\n",
    "ax2.set_ylabel('runtime (seconds; red)')\n",
    "plt.show()"
   ]
  },
  {
   "cell_type": "markdown",
   "metadata": {},
   "source": [
    "The runtime increases almost exactly linearly with the number of decision trees in the random forest, as to be expected. The accuracy, however, does not increase much, and is in the 80% ballpark."
   ]
  },
  {
   "cell_type": "markdown",
   "metadata": {},
   "source": [
    "## 3.3 SVM\n",
    "SVMs utilize what's known as a \"kernel trick\" to create hyperplane separators for your data (i.e. linear separators for non-linear problems). While SVMs \"could\" overfit in theory, the generalizability of kernels usually makes it resistant from small overfitting.\n",
    "\n",
    "SVMs do tend to take a lot of time, and its success is highly dependent on its kernel. A pure SVM on this dataset (40k data points of 100 features) will take forever to run, so we'll create a \"bagged classifier\" using the BaggingClassifier library offered by sklearn. The BaggingClassifier will take a base model (for us, the SVM), and train multiple of it on multiple random subsets of the dataset. For us, let's train 10 SVM models per kernel on 1% of the data (about 400 data points) each time.\n",
    "\n",
    "Let's see how well different kernels work on our dataset."
   ]
  },
  {
   "cell_type": "code",
   "execution_count": 14,
   "metadata": {},
   "outputs": [
    {
     "data": {
      "text/html": [
       "<div>\n",
       "<style scoped>\n",
       "    .dataframe tbody tr th:only-of-type {\n",
       "        vertical-align: middle;\n",
       "    }\n",
       "\n",
       "    .dataframe tbody tr th {\n",
       "        vertical-align: top;\n",
       "    }\n",
       "\n",
       "    .dataframe thead th {\n",
       "        text-align: right;\n",
       "    }\n",
       "</style>\n",
       "<table border=\"1\" class=\"dataframe\">\n",
       "  <thead>\n",
       "    <tr style=\"text-align: right;\">\n",
       "      <th></th>\n",
       "      <th>family</th>\n",
       "      <th>model</th>\n",
       "      <th>classification_rate</th>\n",
       "      <th>runtime</th>\n",
       "    </tr>\n",
       "  </thead>\n",
       "  <tbody>\n",
       "    <tr>\n",
       "      <th>12</th>\n",
       "      <td>SVM</td>\n",
       "      <td>SVM-linear</td>\n",
       "      <td>0.704316</td>\n",
       "      <td>157.753642</td>\n",
       "    </tr>\n",
       "    <tr>\n",
       "      <th>13</th>\n",
       "      <td>SVM</td>\n",
       "      <td>SVM-rbf</td>\n",
       "      <td>0.534027</td>\n",
       "      <td>0.335257</td>\n",
       "    </tr>\n",
       "    <tr>\n",
       "      <th>14</th>\n",
       "      <td>SVM</td>\n",
       "      <td>SVM-sigmoid</td>\n",
       "      <td>0.542037</td>\n",
       "      <td>0.325962</td>\n",
       "    </tr>\n",
       "  </tbody>\n",
       "</table>\n",
       "</div>"
      ],
      "text/plain": [
       "   family        model  classification_rate     runtime\n",
       "12    SVM   SVM-linear             0.704316  157.753642\n",
       "13    SVM      SVM-rbf             0.534027    0.335257\n",
       "14    SVM  SVM-sigmoid             0.542037    0.325962"
      ]
     },
     "execution_count": 14,
     "metadata": {},
     "output_type": "execute_result"
    }
   ],
   "source": [
    "from sklearn.svm import SVC\n",
    "from sklearn.ensemble import BaggingClassifier\n",
    "kernels = ['linear','rbf','sigmoid']\n",
    "kernel_names = ['SVM-'+kernel for kernel in kernels]\n",
    "\n",
    "for i in range(len(kernels)):\n",
    "    clf = SVC(kernel=kernels[i],random_state=0)\n",
    "    time_start = time.time()\n",
    "    clf = BaggingClassifier(base_estimator=clf,n_estimators=10,max_samples=0.01,n_jobs=-1,random_state=0)\n",
    "    clf.fit(X_train,y_train)\n",
    "    time_run = time.time()-time_start\n",
    "    y_pred=clf.predict(X_test)\n",
    "    \n",
    "    results = results.append(pd.DataFrame([['SVM',kernel_names[i],accuracy_score(y_test,y_pred),time_run]],columns=cols_results),ignore_index=True)\n",
    "    \n",
    "results[results.family=='SVM']"
   ]
  },
  {
   "cell_type": "code",
   "execution_count": 15,
   "metadata": {
    "scrolled": true
   },
   "outputs": [
    {
     "data": {
      "text/plain": [
       "Text(0, 0.5, 'classification rate (blue)')"
      ]
     },
     "execution_count": 15,
     "metadata": {},
     "output_type": "execute_result"
    },
    {
     "data": {
      "image/png": "[encoded data removed]",
      "text/plain": [
       "<Figure size 432x288 with 1 Axes>"
      ]
     },
     "metadata": {
      "needs_background": "light"
     },
     "output_type": "display_data"
    }
   ],
   "source": [
    "plt.bar(x=results[results.family=='SVM'].model,height=results[results.family=='SVM'].classification_rate,color='blue')\n",
    "plt.xlabel('kernel type for SVM')\n",
    "plt.ylabel('classification rate (blue)')"
   ]
  },
  {
   "cell_type": "code",
   "execution_count": 16,
   "metadata": {},
   "outputs": [
    {
     "data": {
      "text/plain": [
       "Text(0, 0.5, 'runtime (seconds; red)')"
      ]
     },
     "execution_count": 16,
     "metadata": {},
     "output_type": "execute_result"
    },
    {
     "data": {
      "image/png": "[encoded data removed]",
      "text/plain": [
       "<Figure size 432x288 with 1 Axes>"
      ]
     },
     "metadata": {
      "needs_background": "light"
     },
     "output_type": "display_data"
    }
   ],
   "source": [
    "plt.bar(x=results[results.family=='SVM'].model,height=results[results.family=='SVM'].runtime,color='red')\n",
    "plt.xlabel('kernel type for SVM')\n",
    "plt.ylabel('runtime (seconds; red)')"
   ]
  },
  {
   "cell_type": "markdown",
   "metadata": {},
   "source": [
    "The linear kernel does show the highest accuracy, but it has a horrible training time. Considering that we took a bagging approach that will take at maximum 10% of the data (=10 SVMs of 1% of the dataset each), the accuracy is actually pretty impressive."
   ]
  },
  {
   "cell_type": "markdown",
   "metadata": {},
   "source": [
    "# 4.0 Results\n",
    "Let's compare the accuracy results from all the models!"
   ]
  },
  {
   "cell_type": "code",
   "execution_count": 17,
   "metadata": {},
   "outputs": [
    {
     "data": {
      "text/html": [
       "<div>\n",
       "<style scoped>\n",
       "    .dataframe tbody tr th:only-of-type {\n",
       "        vertical-align: middle;\n",
       "    }\n",
       "\n",
       "    .dataframe tbody tr th {\n",
       "        vertical-align: top;\n",
       "    }\n",
       "\n",
       "    .dataframe thead th {\n",
       "        text-align: right;\n",
       "    }\n",
       "</style>\n",
       "<table border=\"1\" class=\"dataframe\">\n",
       "  <thead>\n",
       "    <tr style=\"text-align: right;\">\n",
       "      <th></th>\n",
       "      <th>family</th>\n",
       "      <th>model</th>\n",
       "      <th>classification_rate</th>\n",
       "      <th>runtime</th>\n",
       "    </tr>\n",
       "  </thead>\n",
       "  <tbody>\n",
       "    <tr>\n",
       "      <th>0</th>\n",
       "      <td>KNN</td>\n",
       "      <td>KNN-1</td>\n",
       "      <td>0.650954</td>\n",
       "      <td>3.882647</td>\n",
       "    </tr>\n",
       "    <tr>\n",
       "      <th>1</th>\n",
       "      <td>KNN</td>\n",
       "      <td>KNN-2</td>\n",
       "      <td>0.608611</td>\n",
       "      <td>4.331218</td>\n",
       "    </tr>\n",
       "    <tr>\n",
       "      <th>2</th>\n",
       "      <td>KNN</td>\n",
       "      <td>KNN-3</td>\n",
       "      <td>0.665544</td>\n",
       "      <td>4.663277</td>\n",
       "    </tr>\n",
       "    <tr>\n",
       "      <th>3</th>\n",
       "      <td>KNN</td>\n",
       "      <td>KNN-4</td>\n",
       "      <td>0.652740</td>\n",
       "      <td>4.692356</td>\n",
       "    </tr>\n",
       "    <tr>\n",
       "      <th>4</th>\n",
       "      <td>KNN</td>\n",
       "      <td>KNN-5</td>\n",
       "      <td>0.671768</td>\n",
       "      <td>4.821031</td>\n",
       "    </tr>\n",
       "    <tr>\n",
       "      <th>5</th>\n",
       "      <td>KNN</td>\n",
       "      <td>KNN-6</td>\n",
       "      <td>0.666310</td>\n",
       "      <td>5.039141</td>\n",
       "    </tr>\n",
       "    <tr>\n",
       "      <th>6</th>\n",
       "      <td>KNN</td>\n",
       "      <td>KNN-7</td>\n",
       "      <td>0.671360</td>\n",
       "      <td>5.232532</td>\n",
       "    </tr>\n",
       "    <tr>\n",
       "      <th>7</th>\n",
       "      <td>KNN</td>\n",
       "      <td>KNN-8</td>\n",
       "      <td>0.670442</td>\n",
       "      <td>5.244241</td>\n",
       "    </tr>\n",
       "    <tr>\n",
       "      <th>8</th>\n",
       "      <td>KNN</td>\n",
       "      <td>KNN-9</td>\n",
       "      <td>0.673350</td>\n",
       "      <td>5.388956</td>\n",
       "    </tr>\n",
       "    <tr>\n",
       "      <th>9</th>\n",
       "      <td>RF</td>\n",
       "      <td>RF-10</td>\n",
       "      <td>0.781094</td>\n",
       "      <td>0.617978</td>\n",
       "    </tr>\n",
       "    <tr>\n",
       "      <th>10</th>\n",
       "      <td>RF</td>\n",
       "      <td>RF-100</td>\n",
       "      <td>0.796959</td>\n",
       "      <td>5.720452</td>\n",
       "    </tr>\n",
       "    <tr>\n",
       "      <th>11</th>\n",
       "      <td>RF</td>\n",
       "      <td>RF-1000</td>\n",
       "      <td>0.799051</td>\n",
       "      <td>58.886793</td>\n",
       "    </tr>\n",
       "    <tr>\n",
       "      <th>12</th>\n",
       "      <td>SVM</td>\n",
       "      <td>SVM-linear</td>\n",
       "      <td>0.704316</td>\n",
       "      <td>157.753642</td>\n",
       "    </tr>\n",
       "    <tr>\n",
       "      <th>13</th>\n",
       "      <td>SVM</td>\n",
       "      <td>SVM-rbf</td>\n",
       "      <td>0.534027</td>\n",
       "      <td>0.335257</td>\n",
       "    </tr>\n",
       "    <tr>\n",
       "      <th>14</th>\n",
       "      <td>SVM</td>\n",
       "      <td>SVM-sigmoid</td>\n",
       "      <td>0.542037</td>\n",
       "      <td>0.325962</td>\n",
       "    </tr>\n",
       "  </tbody>\n",
       "</table>\n",
       "</div>"
      ],
      "text/plain": [
       "   family        model  classification_rate     runtime\n",
       "0     KNN        KNN-1             0.650954    3.882647\n",
       "1     KNN        KNN-2             0.608611    4.331218\n",
       "2     KNN        KNN-3             0.665544    4.663277\n",
       "3     KNN        KNN-4             0.652740    4.692356\n",
       "4     KNN        KNN-5             0.671768    4.821031\n",
       "5     KNN        KNN-6             0.666310    5.039141\n",
       "6     KNN        KNN-7             0.671360    5.232532\n",
       "7     KNN        KNN-8             0.670442    5.244241\n",
       "8     KNN        KNN-9             0.673350    5.388956\n",
       "9      RF        RF-10             0.781094    0.617978\n",
       "10     RF       RF-100             0.796959    5.720452\n",
       "11     RF      RF-1000             0.799051   58.886793\n",
       "12    SVM   SVM-linear             0.704316  157.753642\n",
       "13    SVM      SVM-rbf             0.534027    0.335257\n",
       "14    SVM  SVM-sigmoid             0.542037    0.325962"
      ]
     },
     "execution_count": 17,
     "metadata": {},
     "output_type": "execute_result"
    }
   ],
   "source": [
    "results"
   ]
  },
  {
   "cell_type": "code",
   "execution_count": 18,
   "metadata": {},
   "outputs": [
    {
     "data": {
      "text/plain": [
       "Text(0, 0.5, 'model type')"
      ]
     },
     "execution_count": 18,
     "metadata": {},
     "output_type": "execute_result"
    },
    {
     "data": {
      "image/png": "[encoded data removed]",
      "text/plain": [
       "<Figure size 432x288 with 1 Axes>"
      ]
     },
     "metadata": {
      "needs_background": "light"
     },
     "output_type": "display_data"
    }
   ],
   "source": [
    "plt.barh(results.model,results.classification_rate,color='blue')\n",
    "plt.xlabel('classification rate')\n",
    "plt.ylabel('model type')"
   ]
  },
  {
   "cell_type": "code",
   "execution_count": 19,
   "metadata": {
    "scrolled": true
   },
   "outputs": [
    {
     "data": {
      "text/plain": [
       "Text(0, 0.5, 'model type')"
      ]
     },
     "execution_count": 19,
     "metadata": {},
     "output_type": "execute_result"
    },
    {
     "data": {
      "image/png": "[encoded data removed]",
      "text/plain": [
       "<Figure size 432x288 with 1 Axes>"
      ]
     },
     "metadata": {
      "needs_background": "light"
     },
     "output_type": "display_data"
    }
   ],
   "source": [
    "plt.barh(results.model,results.runtime,color='red')\n",
    "plt.xlabel('runtime (seconds)')\n",
    "plt.ylabel('model type')"
   ]
  },
  {
   "cell_type": "markdown",
   "metadata": {},
   "source": [
    "## 4.1 Base Case: Random Classifier\n",
    "How can we gauge how good the model works? One way to do this is to create a random classifier that will classify the input randomly and compare the results. The random assignment of labels will follow the \"base\" proportion of the labels given to it at training."
   ]
  },
  {
   "cell_type": "code",
   "execution_count": 20,
   "metadata": {},
   "outputs": [
    {
     "name": "stdout",
     "output_type": "stream",
     "text": [
      "Accuracy of a random classifier is: 44.92%\n"
     ]
    }
   ],
   "source": [
    "from sklearn.dummy import DummyClassifier\n",
    "\n",
    "clf = DummyClassifier(strategy='stratified',random_state=0)\n",
    "clf.fit(X_train,y_train)\n",
    "y_pred = clf.predict(X_test)\n",
    "print('Accuracy of a random classifier is: %.2f%%'%(accuracy_score(y_test,y_pred)*100))"
   ]
  },
  {
   "cell_type": "markdown",
   "metadata": {},
   "source": [
    "It seems like for a base accuracy of 45%, all of our models have done pretty well in terms of accuracy."
   ]
  },
  {
   "cell_type": "markdown",
   "metadata": {},
   "source": [
    "## 4.2 Class Imbalance - Undersampling\n",
    "Lastly, we come back to the class imbalance problem that we've mentioned at the beginning. The imbalance in labels leads classifers to bias towards the majority label. For our case, it's towards the 'functional' label.\n",
    "\n",
    "We've already seen that a classifier that predicts the 'functional' label for half the time ('functional' label takes up 54.3% of the dataset) will already achieve 45% accuracy. This is already far better than a uniform random guess of 33% (1/3).\n",
    "\n",
    "Class imbalance may not affect classifiers if the classes are clearly separate from each other, but in most cases they aren't. To see whether or not class imbalance affected our models, we can undersample the data.\n",
    "\n",
    "Balanced undersampling means that we take a random sample of our data where the classes are 'balanced.' This can be done using the imblearn library's RandomUnderSampler class. Think of imblearn as an sklearn library for imbalanced datasets."
   ]
  },
  {
   "cell_type": "code",
   "execution_count": 26,
   "metadata": {},
   "outputs": [
    {
     "name": "stdout",
     "output_type": "stream",
     "text": [
      "X_rus_train is a dataset of 8751 data points of 112 features\n",
      "X_rus_test is a dataset of 4200 data points of 112 features\n"
     ]
    }
   ],
   "source": [
    "from imblearn.under_sampling import RandomUnderSampler\n",
    "rus = RandomUnderSampler(random_state=0)\n",
    "X_rus_train,y_rus_train = rus.fit_resample(X_train,y_train)\n",
    "X_rus_test,y_rus_test = rus.fit_resample(X_test,y_test)\n",
    "\n",
    "print('X_rus_train is a dataset of %d data points of %d features'%(X_rus_train.shape[0],X_rus_train.shape[1]))\n",
    "print('X_rus_test is a dataset of %d data points of %d features'%(X_rus_test.shape[0],X_rus_test.shape[1]))"
   ]
  },
  {
   "cell_type": "markdown",
   "metadata": {},
   "source": [
    "While our original X_train had almost 40,000 datapoints, our undersampled dataset only has about 8,700 datapoints. Let's run it through our most successful model - random forests - and see if undersampling affects our model accuracy."
   ]
  },
  {
   "cell_type": "code",
   "execution_count": 35,
   "metadata": {
    "scrolled": true
   },
   "outputs": [
    {
     "data": {
      "text/html": [
       "<div>\n",
       "<style scoped>\n",
       "    .dataframe tbody tr th:only-of-type {\n",
       "        vertical-align: middle;\n",
       "    }\n",
       "\n",
       "    .dataframe tbody tr th {\n",
       "        vertical-align: top;\n",
       "    }\n",
       "\n",
       "    .dataframe thead th {\n",
       "        text-align: right;\n",
       "    }\n",
       "</style>\n",
       "<table border=\"1\" class=\"dataframe\">\n",
       "  <thead>\n",
       "    <tr style=\"text-align: right;\">\n",
       "      <th></th>\n",
       "      <th>family</th>\n",
       "      <th>model</th>\n",
       "      <th>classification_rate</th>\n",
       "      <th>runtime</th>\n",
       "    </tr>\n",
       "  </thead>\n",
       "  <tbody>\n",
       "    <tr>\n",
       "      <th>9</th>\n",
       "      <td>RF</td>\n",
       "      <td>RF-10</td>\n",
       "      <td>0.781094</td>\n",
       "      <td>0.617978</td>\n",
       "    </tr>\n",
       "    <tr>\n",
       "      <th>10</th>\n",
       "      <td>RF</td>\n",
       "      <td>RF-100</td>\n",
       "      <td>0.796959</td>\n",
       "      <td>5.720452</td>\n",
       "    </tr>\n",
       "    <tr>\n",
       "      <th>11</th>\n",
       "      <td>RF</td>\n",
       "      <td>RF-1000</td>\n",
       "      <td>0.799051</td>\n",
       "      <td>58.886793</td>\n",
       "    </tr>\n",
       "    <tr>\n",
       "      <th>15</th>\n",
       "      <td>RF</td>\n",
       "      <td>RF_rus-10</td>\n",
       "      <td>0.684524</td>\n",
       "      <td>0.114116</td>\n",
       "    </tr>\n",
       "    <tr>\n",
       "      <th>16</th>\n",
       "      <td>RF</td>\n",
       "      <td>RF_rus-100</td>\n",
       "      <td>0.697143</td>\n",
       "      <td>0.885368</td>\n",
       "    </tr>\n",
       "    <tr>\n",
       "      <th>17</th>\n",
       "      <td>RF</td>\n",
       "      <td>RF_rus-1000</td>\n",
       "      <td>0.700714</td>\n",
       "      <td>9.037169</td>\n",
       "    </tr>\n",
       "  </tbody>\n",
       "</table>\n",
       "</div>"
      ],
      "text/plain": [
       "   family        model  classification_rate    runtime\n",
       "9      RF        RF-10             0.781094   0.617978\n",
       "10     RF       RF-100             0.796959   5.720452\n",
       "11     RF      RF-1000             0.799051  58.886793\n",
       "15     RF    RF_rus-10             0.684524   0.114116\n",
       "16     RF   RF_rus-100             0.697143   0.885368\n",
       "17     RF  RF_rus-1000             0.700714   9.037169"
      ]
     },
     "execution_count": 35,
     "metadata": {},
     "output_type": "execute_result"
    }
   ],
   "source": [
    "rf_rus_names = ['RF_rus-'+str(int(math.pow(10,r))) for r in rVals]\n",
    "\n",
    "for r in rVals:\n",
    "    clf = RandomForestClassifier(n_estimators=int(math.pow(10,r)),random_state=0)\n",
    "    time_start = time.time()\n",
    "    clf.fit(X_rus_train,y_rus_train)\n",
    "    time_run = time.time()-time_start\n",
    "    y_rus_pred=clf.predict(X_rus_test)\n",
    "    \n",
    "    results = results.append(pd.DataFrame([['RF',rf_rus_names[r-1],accuracy_score(y_rus_test,y_rus_pred),time_run]],columns=cols_results),ignore_index=True)\n",
    "    \n",
    "results[results.family=='RF']"
   ]
  },
  {
   "cell_type": "markdown",
   "metadata": {},
   "source": [
    "So our model accuracy has decreased from close to 80% to under 70%. A part of this is from the fact that the model has had a reduced dataset to work with. But another factor is that our original Random Forest models were getting a falsely \"inflated\" accuracy due to the majority class bias, which is now gone after classes have been imbalanced. At the same time, balancing of the class does lead to an objectively more accurate model, albeit not a more effective one. The ultimate decision is yours to make  - would you care about \"inflated\" accuracy, or would these \"false positives\" deter you from using the original models?\n",
    "\n",
    "As our \"false positives\" may lead us to declare non-functional or in-need-of-repair waterpoints to go unaddressed, we might want to err the other way, but the choice is up to you."
   ]
  }
 ],
 "metadata": {
  "kernelspec": {
   "display_name": "Python 3",
   "language": "python",
   "name": "python3"
  },
  "language_info": {
   "codemirror_mode": {
    "name": "ipython",
    "version": 3
   },
   "file_extension": ".py",
   "mimetype": "text/x-python",
   "name": "python",
   "nbconvert_exporter": "python",
   "pygments_lexer": "ipython3",
   "version": "3.7.3"
  }
 },
 "nbformat": 4,
 "nbformat_minor": 2
}

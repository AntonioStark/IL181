{
 "cells": [
  {
   "cell_type": "markdown",
   "metadata": {},
   "source": [
    "# 0.0 Introduction\n",
    "This code attempts to solve the challenge hosted on DrivenData.org The challenge can be accessed via https://www.drivendata.org/competitions/7/pump-it-up-data-mining-the-water-table\n",
    "\n",
    "A walk-through of this code is available at: \n",
    "\n",
    "This is the second of two parts that attempts to solve the challenge. The first part can be found at the following links below:\n",
    "\n",
    "Github: https://github.com/AntonioStark/Taarifa-Water-Pumps/blob/master/Taarifa%20Water%20Pumps%20pt.1%20Data%20Preprocessing%20EDA.ipynb\n",
    "\n",
    "Medium: https://medium.com/@antoniostark/50ba6ea65c0a"
   ]
  },
  {
   "cell_type": "markdown",
   "metadata": {},
   "source": [
    "# 1.0 Problem Description\n",
    "The challenge is to create a model that will predict the condition of a particular water pump (\"waterpoint\") given its many attributes"
   ]
  },
  {
   "cell_type": "code",
   "execution_count": 1,
   "metadata": {},
   "outputs": [],
   "source": [
    "# general package imports\n",
    "import pandas as pd\n",
    "import numpy as np\n",
    "import matplotlib.pyplot as plt\n",
    "import time"
   ]
  },
  {
   "cell_type": "markdown",
   "metadata": {},
   "source": [
    "# 2.1 Data preparation\n",
    "We've finally managed to get our data preprocessed! Let's run it through some models and see if it gives us any significant results!\n",
    "\n",
    "While there are many types of classifiers we can use, they are generally put into thse three families: nearest neighbors, decision trees, and support vector machines. We're going to look at one example model from each family of models.\n"
   ]
  },
  {
   "cell_type": "code",
   "execution_count": null,
   "metadata": {},
   "outputs": [],
   "source": []
  }
 ],
 "metadata": {
  "kernelspec": {
   "display_name": "Python 3",
   "language": "python",
   "name": "python3"
  },
  "language_info": {
   "codemirror_mode": {
    "name": "ipython",
    "version": 3
   },
   "file_extension": ".py",
   "mimetype": "text/x-python",
   "name": "python",
   "nbconvert_exporter": "python",
   "pygments_lexer": "ipython3",
   "version": "3.7.3"
  }
 },
 "nbformat": 4,
 "nbformat_minor": 2
}

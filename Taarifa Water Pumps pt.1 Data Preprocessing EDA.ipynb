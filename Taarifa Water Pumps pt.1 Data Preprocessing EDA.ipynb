{
 "cells": [
  {
   "cell_type": "markdown",
   "metadata": {},
   "source": [
    "# 0.0 Information\n",
    "This code attempts to solve the challenge hosted on DrivenData.org\n",
    "The challenge can be accessed via https://www.drivendata.org/competitions/7/pump-it-up-data-mining-the-water-table"
   ]
  },
  {
   "cell_type": "markdown",
   "metadata": {},
   "source": [
    "# 1.0 Problem Description\n",
    "The challenge is to create a model that will predict the condition of a particular water pump (\"waterpoint\") given its many attributes"
   ]
  },
  {
   "cell_type": "code",
   "execution_count": 1,
   "metadata": {},
   "outputs": [],
   "source": [
    "# general package imports\n",
    "import pandas as pd\n",
    "import numpy as np\n",
    "import matplotlib.pyplot as plt\n",
    "import time"
   ]
  },
  {
   "cell_type": "markdown",
   "metadata": {},
   "source": [
    "# 2.0 Data: Data Preprocessing and Exploratory Data Analysis (EDA)\n",
    "The datasets describe over 74,000 data points which represent a waterpoint in the Taarifa data catalog.\n",
    "\n",
    "59,400 data points (80% of the entire dataset) are in the training group, while 14,850 data points (20%) are in the testing group.\n",
    "\n",
    "The training data points have 40 features, one feature being the label for its current functionality. All data points have one feature that is the ID of the water point.\n",
    "\n",
    "(for a great explanation about EDA, see https://towardsdatascience.com/exploratory-data-analysis-in-python-c9a77dfa39ce)"
   ]
  },
  {
   "cell_type": "code",
   "execution_count": 2,
   "metadata": {},
   "outputs": [
    {
     "name": "stdout",
     "output_type": "stream",
     "text": [
      "train_values is a dataset of 59400 data points of 40 features\n",
      "train_labels is a dataset of 59400 data points of 2 features\n",
      "test_values is a dataset of 14850 data points of 40 features\n"
     ]
    }
   ],
   "source": [
    "# import data\n",
    "train_values = pd.read_csv('train_values.csv')\n",
    "train_labels = pd.read_csv('train_labels.csv')\n",
    "test_values = pd.read_csv('test_values.csv')\n",
    "\n",
    "# print dataframe informations\n",
    "dfs = (train_values,train_labels,test_values)\n",
    "df_names = ('train_values','train_labels','test_values')\n",
    "\n",
    "for i in range(len(dfs)):\n",
    "    print('%s is a dataset of %d data points of %d features'%(df_names[i],dfs[i].shape[0],dfs[i].shape[1]))"
   ]
  },
  {
   "cell_type": "markdown",
   "metadata": {},
   "source": [
    "## 2.1 Output categories"
   ]
  },
  {
   "cell_type": "code",
   "execution_count": 3,
   "metadata": {
    "scrolled": true
   },
   "outputs": [
    {
     "name": "stdout",
     "output_type": "stream",
     "text": [
      "there are 3 labels: \n",
      "\n",
      "functional                 32259\n",
      "non functional             22824\n",
      "functional needs repair     4317\n",
      "Name: status_group, dtype: int64\n",
      "\n",
      "each with 54.3%, 38.4%, 7.3%\n"
     ]
    }
   ],
   "source": [
    "labels = train_labels.status_group.unique()\n",
    "print('there are %d labels: \\n'%len(labels))\n",
    "labels_count = train_labels.status_group.value_counts()\n",
    "print(labels_count)\n",
    "labels_percentage = labels_count/np.sum(labels_count)*100\n",
    "print('\\neach with %.1f%%, %.1f%%, %.1f%%'%(labels_percentage[0],labels_percentage[1],labels_percentage[2]))"
   ]
  },
  {
   "cell_type": "markdown",
   "metadata": {},
   "source": [
    "The output seems to be slightly imbalanced, but we're not sure if the imbalance is significant (for now). We'll come back to this later"
   ]
  },
  {
   "cell_type": "markdown",
   "metadata": {},
   "source": [
    "## 2.2 Combine data\n",
    "In order to efficiently preprocess data, and to apply the preprocessing measures to all datapoints, we combine the training and testing datasets"
   ]
  },
  {
   "cell_type": "code",
   "execution_count": 4,
   "metadata": {},
   "outputs": [
    {
     "name": "stdout",
     "output_type": "stream",
     "text": [
      "df is a dataset of 74250 data points of 42 features\n"
     ]
    }
   ],
   "source": [
    "# 'status_group' column is assigned the status of each waterpoint, 'test' if unknown (i.e. the waterpoint belongs to the test dataset)\n",
    "train_values['status_group']=train_labels.status_group\n",
    "test_values['status_group']=['test']*test_values.shape[0]\n",
    "\n",
    "# 'train' column discerns if the waterpoint belongs to the training group or the testing group\n",
    "train_values['train']=[True]*train_values.shape[0]\n",
    "test_values['train']=[False]*test_values.shape[0]\n",
    "\n",
    "df = pd.concat([train_values,test_values])\n",
    "print('df is a dataset of %d data points of %d features'%(df.shape[0],df.shape[1]))"
   ]
  },
  {
   "cell_type": "code",
   "execution_count": 5,
   "metadata": {},
   "outputs": [],
   "source": [
    "pd.set_option('display.max_columns', 8)"
   ]
  },
  {
   "cell_type": "code",
   "execution_count": 6,
   "metadata": {},
   "outputs": [
    {
     "data": {
      "text/html": [
       "<div>\n",
       "<style scoped>\n",
       "    .dataframe tbody tr th:only-of-type {\n",
       "        vertical-align: middle;\n",
       "    }\n",
       "\n",
       "    .dataframe tbody tr th {\n",
       "        vertical-align: top;\n",
       "    }\n",
       "\n",
       "    .dataframe thead th {\n",
       "        text-align: right;\n",
       "    }\n",
       "</style>\n",
       "<table border=\"1\" class=\"dataframe\">\n",
       "  <thead>\n",
       "    <tr style=\"text-align: right;\">\n",
       "      <th></th>\n",
       "      <th>id</th>\n",
       "      <th>amount_tsh</th>\n",
       "      <th>date_recorded</th>\n",
       "      <th>funder</th>\n",
       "      <th>...</th>\n",
       "      <th>waterpoint_type</th>\n",
       "      <th>waterpoint_type_group</th>\n",
       "      <th>status_group</th>\n",
       "      <th>train</th>\n",
       "    </tr>\n",
       "  </thead>\n",
       "  <tbody>\n",
       "    <tr>\n",
       "      <th>0</th>\n",
       "      <td>69572</td>\n",
       "      <td>6000.0</td>\n",
       "      <td>2011-03-14</td>\n",
       "      <td>Roman</td>\n",
       "      <td>...</td>\n",
       "      <td>communal standpipe</td>\n",
       "      <td>communal standpipe</td>\n",
       "      <td>functional</td>\n",
       "      <td>True</td>\n",
       "    </tr>\n",
       "    <tr>\n",
       "      <th>1</th>\n",
       "      <td>8776</td>\n",
       "      <td>0.0</td>\n",
       "      <td>2013-03-06</td>\n",
       "      <td>Grumeti</td>\n",
       "      <td>...</td>\n",
       "      <td>communal standpipe</td>\n",
       "      <td>communal standpipe</td>\n",
       "      <td>functional</td>\n",
       "      <td>True</td>\n",
       "    </tr>\n",
       "    <tr>\n",
       "      <th>2</th>\n",
       "      <td>34310</td>\n",
       "      <td>25.0</td>\n",
       "      <td>2013-02-25</td>\n",
       "      <td>Lottery Club</td>\n",
       "      <td>...</td>\n",
       "      <td>communal standpipe multiple</td>\n",
       "      <td>communal standpipe</td>\n",
       "      <td>functional</td>\n",
       "      <td>True</td>\n",
       "    </tr>\n",
       "    <tr>\n",
       "      <th>3</th>\n",
       "      <td>67743</td>\n",
       "      <td>0.0</td>\n",
       "      <td>2013-01-28</td>\n",
       "      <td>Unicef</td>\n",
       "      <td>...</td>\n",
       "      <td>communal standpipe multiple</td>\n",
       "      <td>communal standpipe</td>\n",
       "      <td>non functional</td>\n",
       "      <td>True</td>\n",
       "    </tr>\n",
       "    <tr>\n",
       "      <th>4</th>\n",
       "      <td>19728</td>\n",
       "      <td>0.0</td>\n",
       "      <td>2011-07-13</td>\n",
       "      <td>Action In A</td>\n",
       "      <td>...</td>\n",
       "      <td>communal standpipe</td>\n",
       "      <td>communal standpipe</td>\n",
       "      <td>functional</td>\n",
       "      <td>True</td>\n",
       "    </tr>\n",
       "  </tbody>\n",
       "</table>\n",
       "<p>5 rows × 42 columns</p>\n",
       "</div>"
      ],
      "text/plain": [
       "      id  amount_tsh date_recorded        funder  ...  \\\n",
       "0  69572      6000.0    2011-03-14         Roman  ...   \n",
       "1   8776         0.0    2013-03-06       Grumeti  ...   \n",
       "2  34310        25.0    2013-02-25  Lottery Club  ...   \n",
       "3  67743         0.0    2013-01-28        Unicef  ...   \n",
       "4  19728         0.0    2011-07-13   Action In A  ...   \n",
       "\n",
       "               waterpoint_type waterpoint_type_group    status_group  train  \n",
       "0           communal standpipe    communal standpipe      functional   True  \n",
       "1           communal standpipe    communal standpipe      functional   True  \n",
       "2  communal standpipe multiple    communal standpipe      functional   True  \n",
       "3  communal standpipe multiple    communal standpipe  non functional   True  \n",
       "4           communal standpipe    communal standpipe      functional   True  \n",
       "\n",
       "[5 rows x 42 columns]"
      ]
     },
     "execution_count": 6,
     "metadata": {},
     "output_type": "execute_result"
    }
   ],
   "source": [
    "df.head()"
   ]
  },
  {
   "cell_type": "code",
   "execution_count": 7,
   "metadata": {
    "scrolled": false
   },
   "outputs": [
    {
     "data": {
      "text/html": [
       "<div>\n",
       "<style scoped>\n",
       "    .dataframe tbody tr th:only-of-type {\n",
       "        vertical-align: middle;\n",
       "    }\n",
       "\n",
       "    .dataframe tbody tr th {\n",
       "        vertical-align: top;\n",
       "    }\n",
       "\n",
       "    .dataframe thead th {\n",
       "        text-align: right;\n",
       "    }\n",
       "</style>\n",
       "<table border=\"1\" class=\"dataframe\">\n",
       "  <thead>\n",
       "    <tr style=\"text-align: right;\">\n",
       "      <th></th>\n",
       "      <th>id</th>\n",
       "      <th>amount_tsh</th>\n",
       "      <th>date_recorded</th>\n",
       "      <th>funder</th>\n",
       "      <th>...</th>\n",
       "      <th>waterpoint_type</th>\n",
       "      <th>waterpoint_type_group</th>\n",
       "      <th>status_group</th>\n",
       "      <th>train</th>\n",
       "    </tr>\n",
       "  </thead>\n",
       "  <tbody>\n",
       "    <tr>\n",
       "      <th>14845</th>\n",
       "      <td>39307</td>\n",
       "      <td>0.0</td>\n",
       "      <td>2011-02-24</td>\n",
       "      <td>Danida</td>\n",
       "      <td>...</td>\n",
       "      <td>communal standpipe</td>\n",
       "      <td>communal standpipe</td>\n",
       "      <td>test</td>\n",
       "      <td>False</td>\n",
       "    </tr>\n",
       "    <tr>\n",
       "      <th>14846</th>\n",
       "      <td>18990</td>\n",
       "      <td>1000.0</td>\n",
       "      <td>2011-03-21</td>\n",
       "      <td>Hiap</td>\n",
       "      <td>...</td>\n",
       "      <td>hand pump</td>\n",
       "      <td>hand pump</td>\n",
       "      <td>test</td>\n",
       "      <td>False</td>\n",
       "    </tr>\n",
       "    <tr>\n",
       "      <th>14847</th>\n",
       "      <td>28749</td>\n",
       "      <td>0.0</td>\n",
       "      <td>2013-03-04</td>\n",
       "      <td>NaN</td>\n",
       "      <td>...</td>\n",
       "      <td>communal standpipe</td>\n",
       "      <td>communal standpipe</td>\n",
       "      <td>test</td>\n",
       "      <td>False</td>\n",
       "    </tr>\n",
       "    <tr>\n",
       "      <th>14848</th>\n",
       "      <td>33492</td>\n",
       "      <td>0.0</td>\n",
       "      <td>2013-02-18</td>\n",
       "      <td>Germany</td>\n",
       "      <td>...</td>\n",
       "      <td>communal standpipe</td>\n",
       "      <td>communal standpipe</td>\n",
       "      <td>test</td>\n",
       "      <td>False</td>\n",
       "    </tr>\n",
       "    <tr>\n",
       "      <th>14849</th>\n",
       "      <td>68707</td>\n",
       "      <td>0.0</td>\n",
       "      <td>2013-02-13</td>\n",
       "      <td>Government Of Tanzania</td>\n",
       "      <td>...</td>\n",
       "      <td>communal standpipe</td>\n",
       "      <td>communal standpipe</td>\n",
       "      <td>test</td>\n",
       "      <td>False</td>\n",
       "    </tr>\n",
       "  </tbody>\n",
       "</table>\n",
       "<p>5 rows × 42 columns</p>\n",
       "</div>"
      ],
      "text/plain": [
       "          id  amount_tsh date_recorded                  funder  ...  \\\n",
       "14845  39307         0.0    2011-02-24                  Danida  ...   \n",
       "14846  18990      1000.0    2011-03-21                    Hiap  ...   \n",
       "14847  28749         0.0    2013-03-04                     NaN  ...   \n",
       "14848  33492         0.0    2013-02-18                 Germany  ...   \n",
       "14849  68707         0.0    2013-02-13  Government Of Tanzania  ...   \n",
       "\n",
       "          waterpoint_type waterpoint_type_group  status_group  train  \n",
       "14845  communal standpipe    communal standpipe          test  False  \n",
       "14846           hand pump             hand pump          test  False  \n",
       "14847  communal standpipe    communal standpipe          test  False  \n",
       "14848  communal standpipe    communal standpipe          test  False  \n",
       "14849  communal standpipe    communal standpipe          test  False  \n",
       "\n",
       "[5 rows x 42 columns]"
      ]
     },
     "execution_count": 7,
     "metadata": {},
     "output_type": "execute_result"
    }
   ],
   "source": [
    "df.tail()"
   ]
  },
  {
   "cell_type": "markdown",
   "metadata": {},
   "source": [
    "## 2.3 Drop features with too many N/A, NaN, null datapoints"
   ]
  },
  {
   "cell_type": "code",
   "execution_count": 8,
   "metadata": {},
   "outputs": [
    {
     "data": {
      "text/plain": [
       "id                           0\n",
       "amount_tsh                   0\n",
       "date_recorded                0\n",
       "funder                    4504\n",
       "gps_height                   0\n",
       "installer                 4532\n",
       "longitude                    0\n",
       "latitude                     0\n",
       "wpt_name                     0\n",
       "num_private                  0\n",
       "basin                        0\n",
       "subvillage                 470\n",
       "region                       0\n",
       "region_code                  0\n",
       "district_code                0\n",
       "lga                          0\n",
       "ward                         0\n",
       "population                   0\n",
       "public_meeting            4155\n",
       "recorded_by                  0\n",
       "scheme_management         4846\n",
       "scheme_name              35258\n",
       "permit                    3793\n",
       "construction_year            0\n",
       "extraction_type              0\n",
       "extraction_type_group        0\n",
       "extraction_type_class        0\n",
       "management                   0\n",
       "management_group             0\n",
       "payment                      0\n",
       "payment_type                 0\n",
       "water_quality                0\n",
       "quality_group                0\n",
       "quantity                     0\n",
       "quantity_group               0\n",
       "source                       0\n",
       "source_type                  0\n",
       "source_class                 0\n",
       "waterpoint_type              0\n",
       "waterpoint_type_group        0\n",
       "status_group                 0\n",
       "train                        0\n",
       "dtype: int64"
      ]
     },
     "execution_count": 8,
     "metadata": {},
     "output_type": "execute_result"
    }
   ],
   "source": [
    "# show the number of N/A, NaN, null datapoints per column\n",
    "nulls = df.isnull().sum()\n",
    "nulls"
   ]
  },
  {
   "cell_type": "code",
   "execution_count": 9,
   "metadata": {},
   "outputs": [
    {
     "name": "stdout",
     "output_type": "stream",
     "text": [
      "the percentages of null values per feature:\n",
      "\n",
      "funder                6.07\n",
      "installer             6.10\n",
      "subvillage            0.63\n",
      "public_meeting        5.60\n",
      "scheme_management     6.53\n",
      "scheme_name          47.49\n",
      "permit                5.11\n",
      "dtype: float64\n"
     ]
    }
   ],
   "source": [
    "nulls_percentage = nulls[nulls!=0]/df.shape[0]*100\n",
    "print('the percentages of null values per feature:\\n')\n",
    "print(round(nulls_percentage,2))"
   ]
  },
  {
   "cell_type": "markdown",
   "metadata": {},
   "source": [
    "it seems like the features that have null datapoints have significant number of datapoints. Hence, it is safe to eliminate entire features if they contain any null datapoints"
   ]
  },
  {
   "cell_type": "code",
   "execution_count": 10,
   "metadata": {
    "scrolled": true
   },
   "outputs": [
    {
     "name": "stdout",
     "output_type": "stream",
     "text": [
      "number of features reduced from 42 to 35\n"
     ]
    }
   ],
   "source": [
    "features_original = df.shape[1]\n",
    "df.dropna(axis='columns',how='any',inplace=True)\n",
    "features_reduced = df.shape[1]\n",
    "print('number of features reduced from %d to %d'%(features_original,features_reduced))"
   ]
  },
  {
   "cell_type": "markdown",
   "metadata": {},
   "source": [
    "## 2.4 Identify numerical but categorical features\n",
    "A dirty way to identify categorical features is to check if its values are non-numerical. But there are some features whose categories are numerical. This would mean that the magnitude of the numerical value has no innate meaning, i.e. the feature is categorical rather than ordinal.\n",
    "\n",
    "A lot of times, we can't be sure whether or not a numerical feature is ordinal or categorical. We'd have to ask the people who actually assigned the number to the datapoint to see if they have innate meaning.\n",
    "\n",
    "But by looking at how many \"unique\" numbers come up per feature, we can guess whether or not a numerical feature may be categorical."
   ]
  },
  {
   "cell_type": "code",
   "execution_count": 11,
   "metadata": {
    "scrolled": false
   },
   "outputs": [
    {
     "data": {
      "text/plain": [
       "id                   74250\n",
       "amount_tsh             102\n",
       "gps_height            2456\n",
       "longitude            71870\n",
       "latitude             71869\n",
       "num_private             68\n",
       "region_code             27\n",
       "district_code           20\n",
       "population            1128\n",
       "construction_year       55\n",
       "dtype: int64"
      ]
     },
     "execution_count": 11,
     "metadata": {},
     "output_type": "execute_result"
    }
   ],
   "source": [
    "df.select_dtypes(include='number').nunique()"
   ]
  },
  {
   "cell_type": "markdown",
   "metadata": {},
   "source": [
    "Here, we can see that there are five features that have an abnormally low number of unique values. That is indicative that those numerical values actually stand for categorical values.\n",
    "\n",
    "Looking at the dataset documentation, we find that three of the five features: 'num_private', 'region_code', 'district_code' are geographic codes whose numerical values probably don't have much meaning. Let's convert these into strings so that we can play with them in the next sections."
   ]
  },
  {
   "cell_type": "code",
   "execution_count": 12,
   "metadata": {},
   "outputs": [],
   "source": [
    "df['num_private'] = df.num_private.astype(str)\n",
    "df['region_code'] = df.region_code.astype(str)\n",
    "df['district_code'] = df.district_code.astype(str)"
   ]
  },
  {
   "cell_type": "markdown",
   "metadata": {},
   "source": [
    "## 2.5 Drop categorical features with too many categories\n",
    "Categorical features that have too many categories are usually not useful for predictive models. Let's find how many categories each categorical features have."
   ]
  },
  {
   "cell_type": "code",
   "execution_count": 13,
   "metadata": {
    "scrolled": false
   },
   "outputs": [
    {
     "data": {
      "text/plain": [
       "date_recorded              369\n",
       "wpt_name                 45684\n",
       "num_private                 68\n",
       "basin                        9\n",
       "region                      21\n",
       "region_code                 27\n",
       "district_code               20\n",
       "lga                        125\n",
       "ward                      2098\n",
       "recorded_by                  1\n",
       "extraction_type             18\n",
       "extraction_type_group       13\n",
       "extraction_type_class        7\n",
       "management                  12\n",
       "management_group             5\n",
       "payment                      7\n",
       "payment_type                 7\n",
       "water_quality                8\n",
       "quality_group                6\n",
       "quantity                     5\n",
       "quantity_group               5\n",
       "source                      10\n",
       "source_type                  7\n",
       "source_class                 3\n",
       "waterpoint_type              7\n",
       "waterpoint_type_group        6\n",
       "status_group                 4\n",
       "train                        2\n",
       "dtype: int64"
      ]
     },
     "execution_count": 13,
     "metadata": {},
     "output_type": "execute_result"
    }
   ],
   "source": [
    "uniques = df.select_dtypes(exclude='number').nunique()\n",
    "uniques"
   ]
  },
  {
   "cell_type": "markdown",
   "metadata": {},
   "source": [
    "We have a few features whose number of categories do not justify them to be a \"categorical\" variable. Given that we have over 74,000 data points, a feature that has more than 740 categories will only less than 100 data points per category, in average. Let's remove features whose number of categories are over 740."
   ]
  },
  {
   "cell_type": "code",
   "execution_count": 14,
   "metadata": {
    "scrolled": true
   },
   "outputs": [
    {
     "data": {
      "text/plain": [
       "wpt_name    45684\n",
       "ward         2098\n",
       "dtype: int64"
      ]
     },
     "execution_count": 14,
     "metadata": {},
     "output_type": "execute_result"
    }
   ],
   "source": [
    "uniques[uniques>740]"
   ]
  },
  {
   "cell_type": "code",
   "execution_count": 15,
   "metadata": {
    "scrolled": true
   },
   "outputs": [
    {
     "name": "stdout",
     "output_type": "stream",
     "text": [
      "number of features reduced from 35 to 33\n"
     ]
    }
   ],
   "source": [
    "features_original = df.shape[1]\n",
    "df.drop(columns=['wpt_name','ward'],inplace=True)\n",
    "features_reduced = df.shape[1]\n",
    "print('number of features reduced from %d to %d'%(features_original,features_reduced))"
   ]
  },
  {
   "cell_type": "markdown",
   "metadata": {},
   "source": [
    "## 2.6 Remove categorical features with too few values\n",
    "We still have a lot of features left. We want to cut down on categorical features as they will blow up the number of features once we apply one-hot encoding.\n",
    "\n",
    "Another type of categorical features that are usually useless are features that have categories that show up too infrequently. Let's find such features.\n",
    "\n",
    "In the above section, we removed features whose \"average\" data points per category are less than 100 data points. Here, we'll remove features whose \"minimum\" data points per category are less than 100."
   ]
  },
  {
   "cell_type": "code",
   "execution_count": 16,
   "metadata": {},
   "outputs": [
    {
     "name": "stdout",
     "output_type": "stream",
     "text": [
      "number of features reduced from 33 to 23\n"
     ]
    }
   ],
   "source": [
    "thresh = 100\n",
    "features_original = df.shape[1]\n",
    "\n",
    "for col in df.select_dtypes(exclude='number').columns:\n",
    "    value_counts = df[col].value_counts()\n",
    "    if value_counts.min(axis=0) < thresh:\n",
    "        df.drop(columns=col,inplace=True)\n",
    "\n",
    "features_reduced = df.shape[1]\n",
    "print('number of features reduced from %d to %d'%(features_original,features_reduced))"
   ]
  },
  {
   "cell_type": "markdown",
   "metadata": {},
   "source": [
    "Let's quickly check back to see which nonnumerical features have remained, and how many categories each have:"
   ]
  },
  {
   "cell_type": "code",
   "execution_count": 17,
   "metadata": {},
   "outputs": [
    {
     "data": {
      "text/plain": [
       "basin                     9\n",
       "region                   21\n",
       "recorded_by               1\n",
       "extraction_type_group    13\n",
       "extraction_type_class     7\n",
       "management               12\n",
       "management_group          5\n",
       "payment                   7\n",
       "payment_type              7\n",
       "quality_group             6\n",
       "quantity                  5\n",
       "quantity_group            5\n",
       "source_type               7\n",
       "source_class              3\n",
       "status_group              4\n",
       "train                     2\n",
       "dtype: int64"
      ]
     },
     "execution_count": 17,
     "metadata": {},
     "output_type": "execute_result"
    }
   ],
   "source": [
    "df.select_dtypes(exclude='number').nunique()"
   ]
  },
  {
   "cell_type": "markdown",
   "metadata": {},
   "source": [
    "## 2.5 Drop irrelevant features"
   ]
  },
  {
   "cell_type": "markdown",
   "metadata": {},
   "source": [
    "Okay let's quickly check which features we have left:"
   ]
  },
  {
   "cell_type": "code",
   "execution_count": 18,
   "metadata": {},
   "outputs": [
    {
     "name": "stdout",
     "output_type": "stream",
     "text": [
      "total number of features: 23\n",
      "\n"
     ]
    },
    {
     "data": {
      "text/plain": [
       "id                         int64\n",
       "amount_tsh               float64\n",
       "gps_height                 int64\n",
       "longitude                float64\n",
       "latitude                 float64\n",
       "basin                     object\n",
       "region                    object\n",
       "population                 int64\n",
       "recorded_by               object\n",
       "construction_year          int64\n",
       "extraction_type_group     object\n",
       "extraction_type_class     object\n",
       "management                object\n",
       "management_group          object\n",
       "payment                   object\n",
       "payment_type              object\n",
       "quality_group             object\n",
       "quantity                  object\n",
       "quantity_group            object\n",
       "source_type               object\n",
       "source_class              object\n",
       "status_group              object\n",
       "train                       bool\n",
       "dtype: object"
      ]
     },
     "execution_count": 18,
     "metadata": {},
     "output_type": "execute_result"
    }
   ],
   "source": [
    "print('total number of features: %d\\n'%(df.shape[1]))\n",
    "df.dtypes"
   ]
  },
  {
   "cell_type": "markdown",
   "metadata": {},
   "source": [
    "To be honest, we can't quite be sure which features will be \"irrelevant\" when we haven't run any models (and seen their results) yet. This is especially true when combination of features, not individual features, may be the key to finding the right categorization scheme.\n",
    "\n",
    "Let's see if there are \"completely uncorrelated\" features that, when deleted, might not affect the other features. This still doesn't gurantee that the feature is useless when combined with other features, but could direct us to a few hopefuls.\n",
    "\n",
    "As in, let's draw some correlation heatmaps!\n",
    "\n",
    "Note that we can draw correlation heatmaps only to numerical features for now. There is a way to draw correlation heatmaps for categorical variables but it's a lot dirtier."
   ]
  },
  {
   "cell_type": "code",
   "execution_count": 19,
   "metadata": {},
   "outputs": [
    {
     "data": {
      "image/png": "[encoded data removed]",
      "text/plain": [
       "<Figure size 432x288 with 2 Axes>"
      ]
     },
     "metadata": {
      "needs_background": "light"
     },
     "output_type": "display_data"
    }
   ],
   "source": [
    "import seaborn as sns\n",
    "\n",
    "sns.heatmap(df.corr(), cmap='RdBu',center=0)\n",
    "plt.show()"
   ]
  },
  {
   "cell_type": "markdown",
   "metadata": {},
   "source": [
    "There seems to be a few features that may hold no value in relation to other features. Let's sort the features to see deeper."
   ]
  },
  {
   "cell_type": "code",
   "execution_count": 20,
   "metadata": {
    "scrolled": false
   },
   "outputs": [
    {
     "data": {
      "text/plain": [
       "<seaborn.matrix.ClusterGrid at 0x7f9981f216a0>"
      ]
     },
     "execution_count": 20,
     "metadata": {},
     "output_type": "execute_result"
    },
    {
     "data": {
      "image/png": "[encoded data removed]",
      "text/plain": [
       "<Figure size 720x720 with 4 Axes>"
      ]
     },
     "metadata": {
      "needs_background": "light"
     },
     "output_type": "display_data"
    }
   ],
   "source": [
    "sns.clustermap(df.corr(), cmap='RdBu',center=0)"
   ]
  },
  {
   "cell_type": "markdown",
   "metadata": {},
   "source": [
    "So the features 'amount_tsh' and 'id' seems to be relatively uncorrelated with the other features, and may be safely disregarded. To note, 'amount_tsh' is the 'amount of water available to waterpoint' and 'id' is, you know, the ID of the waterpoint. Neither seems particularily valuable so let's get rid of them.\n",
    "\n",
    "Looking at the number of categories, we also see that the feature 'recorded_by' is a categorical feature with only ONE category. That's bound to be useless, so we can get rid of that too.\n",
    "\n",
    "Also recognize that the feature 'train' is there for us to just keep of track of dataset groupings, so we don't have to care about that."
   ]
  },
  {
   "cell_type": "code",
   "execution_count": 21,
   "metadata": {},
   "outputs": [
    {
     "name": "stdout",
     "output_type": "stream",
     "text": [
      "number of features reduced from 23 to 20\n"
     ]
    }
   ],
   "source": [
    "features_original = df.shape[1]\n",
    "df.drop(columns = ['amount_tsh','id','recorded_by'],inplace=True)\n",
    "features_reduced = df.shape[1]\n",
    "print('number of features reduced from %d to %d'%(features_original,features_reduced))"
   ]
  },
  {
   "cell_type": "markdown",
   "metadata": {},
   "source": [
    "## 2.6 One-hot encoding\n",
    "Now that we think all the features left are \"valuable\" ones, we can go ahead and one-hot encode it! Remember this will blow up the total number of features of the dataset."
   ]
  },
  {
   "cell_type": "code",
   "execution_count": 22,
   "metadata": {},
   "outputs": [
    {
     "name": "stdout",
     "output_type": "stream",
     "text": [
      "number of features increased from 20 to 114\n"
     ]
    }
   ],
   "source": [
    "# these are the categorical features that we'll one-hot encode. Remember that we won't be one-hot encoding the 'status_group' and 'train' features as they're for our own use, and not used when training the models\n",
    "columns_categorical = ['basin','region','extraction_type_group','extraction_type_class','management','management_group','payment','payment_type','quality_group','quantity','quantity_group','source_type','source_class']\n",
    "\n",
    "features_original = df.shape[1]\n",
    "df = pd.get_dummies(df,columns=columns_categorical)\n",
    "features_reduced = df.shape[1]\n",
    "print('number of features increased from %d to %d'%(features_original,features_reduced))"
   ]
  },
  {
   "cell_type": "markdown",
   "metadata": {},
   "source": [
    "## 2.7 Ordinality formatting\n",
    "One last thing to do is to provide ordinality to the 'status_group' feature. While this is a categorical feature, it has ordinance. I.e., there's a ordinal relationship of fuctional > functional needs repair > non functional. A quick and dirty way to do this is by substituting the string values with numerical values.\n",
    "\n",
    "Pandas does support an in-house ordering feature for Category type series, but it does get a bit hairy, so we'll not do that here. But to be strict, using  the ordinance method given by Pandas is more accurate, especially when the \"distance\" between the categories may not be equal. As in, by giving the numbers, we're saying that the magnitude of difference between 'functional' and 'functional needs repair' is the same as that of 'functional needs repair' and 'non functional'."
   ]
  },
  {
   "cell_type": "code",
   "execution_count": 23,
   "metadata": {},
   "outputs": [],
   "source": [
    "status_group_dict = {'functional':2,'functional needs repair':1,'non functional':0}\n",
    "df.status_group = df.status_group.replace(status_group_dict)"
   ]
  },
  {
   "cell_type": "markdown",
   "metadata": {},
   "source": [
    "That's it! Now we have a beautifully formatted dataset that we can now put into some models to churn out some predictions. We'll look at some models in the next section"
   ]
  }
 ],
 "metadata": {
  "kernelspec": {
   "display_name": "Python 3",
   "language": "python",
   "name": "python3"
  },
  "language_info": {
   "codemirror_mode": {
    "name": "ipython",
    "version": 3
   },
   "file_extension": ".py",
   "mimetype": "text/x-python",
   "name": "python",
   "nbconvert_exporter": "python",
   "pygments_lexer": "ipython3",
   "version": "3.7.3"
  }
 },
 "nbformat": 4,
 "nbformat_minor": 2
}
